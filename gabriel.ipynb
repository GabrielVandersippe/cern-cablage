{
 "cells": [
  {
   "cell_type": "code",
   "execution_count": 2,
   "id": "4f278030",
   "metadata": {},
   "outputs": [],
   "source": [
    "import numpy as np\n",
    "import cv2 as cv\n",
    "import matplotlib.pyplot as plt\n",
    "import os\n",
    "import imutils\n",
    "import scipy.stats as stats"
   ]
  },
  {
   "cell_type": "code",
   "execution_count": 3,
   "id": "b39dd01f",
   "metadata": {},
   "outputs": [],
   "source": [
    "## Ne garder que les images non câblées\n",
    "\n",
    "liste_non_cablees=[]\n",
    "dossier=\"ModulePictures\"\n",
    "\n",
    "for fichier in os.listdir(dossier):\n",
    "    if os.path.isfile(os.path.join(dossier, fichier)) and (\"Reception\" in os.path.basename(fichier)):\n",
    "        liste_non_cablees.append(str(dossier + \"/\"+ os.path.basename(fichier)))\n",
    "\n",
    "## Ne garder que les images câblées\n",
    "\n",
    "liste_cablees=[]\n",
    "dossier=\"ModulePictures\"\n",
    "\n",
    "for fichier in os.listdir(dossier):\n",
    "    if os.path.isfile(os.path.join(dossier, fichier)) and (\"AfterBonding\" in os.path.basename(fichier)):\n",
    "        liste_cablees.append(str(dossier + \"/\"+ os.path.basename(fichier)))\n"
   ]
  },
  {
   "cell_type": "code",
   "execution_count": 46,
   "id": "58744763",
   "metadata": {},
   "outputs": [],
   "source": [
    "def mires(img_input, draw = False):\n",
    "    \n",
    "    assert img_input is not None, \"file could not be read, check with os.path.exists()\"\n",
    "\n",
    "    img = cv.cvtColor(img_input,cv.COLOR_BGR2GRAY)\n",
    "\n",
    "    (height,length) = img.shape\n",
    "\n",
    "    ## TODO : changer cette extraction à la main par quelque chose d'automatisé\n",
    "    sliceparams = [(100, 400, 300, 600, 1),  \n",
    "                   (-400, -100, 300, 600, 1),\n",
    "                   (3800, 4200, 500, 800, 2), \n",
    "                   (100, 400, -600,-300, 1), \n",
    "                   (-400, -100, -600, -300, 1), \n",
    "                   (3800, 4200, -800, -500, 2)]\n",
    "\n",
    "    cimg = cv.cvtColor(img,cv.COLOR_GRAY2BGR)\n",
    "\n",
    "    centers = []\n",
    "\n",
    "    for (beg1, end1, beg2, end2, nbmires) in sliceparams :\n",
    "        mask = img[beg1:end1, beg2:end2]\n",
    "\n",
    "        #Blur pour réduire le bruit\n",
    "        mask = cv.medianBlur(mask,5)\n",
    "        #Fonction qui détecte les cercles.\n",
    "        circles = cv.HoughCircles(mask,cv.HOUGH_GRADIENT,1,minDist = 100,\n",
    "                                    param1=50,param2=20,minRadius=20 ,maxRadius=30)\n",
    "\n",
    "        if circles is not None:\n",
    "            circles = np.int16(np.around(circles))\n",
    "            for i in circles[0,:nbmires]:\n",
    "                \n",
    "                centers.append([i[0]+beg2%length,i[1]+beg1%height])\n",
    "\n",
    "                #Dessin des cercles\n",
    "                if draw :\n",
    "                    cv.circle(cimg,(i[0]+beg2%length,i[1]+beg1%height),i[2],(0,255,0),20)\n",
    "                    cv.circle(cimg,(i[0]+beg2%length,i[1]+beg1%height),2,(0,0,255),3)\n",
    "\n",
    "    if draw :\n",
    "        plt.imshow(cimg)\n",
    "        plt.show()\n",
    "\n",
    "    assert len(centers) == 8, \"Mires manquantes\"\n",
    "\n",
    "    return np.array(centers)"
   ]
  },
  {
   "cell_type": "code",
   "execution_count": 21,
   "id": "d8cee115",
   "metadata": {},
   "outputs": [],
   "source": [
    "#Détection à la main de la frontière supérieure verte :\n",
    "\n",
    "def horiz_pcb(img) :\n",
    "\n",
    "    lower_bound = np.array([0, 40, 0])\n",
    "    upper_bound = np.array([40,110,110])\n",
    "    bwimg = cv.inRange(img, lower_bound, upper_bound)\n",
    "    imagemask_green = cv.medianBlur(bwimg,25)\n",
    "\n",
    "    middle = img.shape[1]//2\n",
    "\n",
    "    top_contour = np.zeros((1000,2),dtype=np.int32)\n",
    "    bot_contour = np.zeros((1000,2),dtype=np.int32)\n",
    "\n",
    "    for j in range(middle - 2000, middle - 1000, 2) :\n",
    "\n",
    "        top_contour[(j - middle + 2000)//2] = [j,min(np.where(imagemask_green[:,j] == 255)[0])]\n",
    "        bot_contour[(j - middle + 2000)//2] = [j,max(np.where(imagemask_green[:,j] == 255)[0])]\n",
    "\n",
    "    for j in range(middle + 1000, middle + 2000, 2) : \n",
    "\n",
    "        top_contour[(j - middle)//2] = [j,min(np.where(imagemask_green[:,j] == 255)[0])]\n",
    "        bot_contour[(j - middle)//2] = [j,max(np.where(imagemask_green[:,j] == 255)[0])]\n",
    "\n",
    "    slopes = [stats.linregress(top_contour[:,0], top_contour[:,1]).slope, stats.linregress(bot_contour[:,0], bot_contour[:,1]).slope]\n",
    "    intercepts = [int(stats.linregress(top_contour[:,0], top_contour[:,1]).intercept), int(stats.linregress(bot_contour[:,0], bot_contour[:,1]).intercept)]\n",
    "\n",
    "    spacing = bot_contour[:,1]-top_contour[:,1]\n",
    "\n",
    "    return slopes,intercepts,np.mean(spacing)"
   ]
  },
  {
   "cell_type": "code",
   "execution_count": 22,
   "id": "b2224ba2",
   "metadata": {},
   "outputs": [
    {
     "data": {
      "text/plain": [
       "([np.float64(-0.002105243872177696), np.float64(-0.0015660332237190321)],\n",
       " [173, 5413],\n",
       " np.float64(5241.684))"
      ]
     },
     "execution_count": 22,
     "metadata": {},
     "output_type": "execute_result"
    }
   ],
   "source": [
    "horiz_pcb(cv.imread(liste_cablees[1]))"
   ]
  },
  {
   "cell_type": "code",
   "execution_count": 7,
   "id": "ade570db",
   "metadata": {},
   "outputs": [],
   "source": [
    "## Fonctions utiles\n",
    "\n",
    "def tourner_image(image, pente):\n",
    "    return imutils.rotate(image, np.arctan(pente))\n",
    "\n",
    "def trouver_la_paire(fichier, dossier):\n",
    "    bname=os.path.basename(fichier)\n",
    "    if \"AfterBonding\" in bname:\n",
    "        name=bname[:bname.find(\"AfterBonding\")]\n",
    "        for f in os.listdir(dossier):\n",
    "            if \"Reception\" in os.path.basename(f):\n",
    "                if os.path.basename(f)[:os.path.basename(f).find(\"Reception\")]==name:\n",
    "                    return f\n",
    "    elif \"Reception\" in bname:\n",
    "        name=bname[:bname.find(\"Reception\")]\n",
    "        for f in os.listdir(dossier):\n",
    "            if \"AfterBonding\" in os.path.basename(f):\n",
    "                if os.path.basename(f)[:os.path.basename(f).find(\"AfterBonding\")]==name:\n",
    "                    return f\n",
    "    return \"Pas de paire\""
   ]
  },
  {
   "cell_type": "code",
   "execution_count": 8,
   "id": "3121b900",
   "metadata": {},
   "outputs": [
    {
     "data": {
      "text/plain": [
       "'20UPGM23210250_PPPV2_45_Reception_Glo_NoLight_AfterClean.jpg'"
      ]
     },
     "execution_count": 8,
     "metadata": {},
     "output_type": "execute_result"
    }
   ],
   "source": [
    "trouver_la_paire(liste_cablees[0],\"ModulePictures\")"
   ]
  },
  {
   "cell_type": "code",
   "execution_count": 9,
   "id": "3d1ca97f",
   "metadata": {},
   "outputs": [],
   "source": [
    "def afficher(img) :\n",
    "    cv.imshow(\"Image\", img)\n",
    "    cv.waitKey(0)\n",
    "    cv.destroyAllWindows()"
   ]
  },
  {
   "cell_type": "code",
   "execution_count": 10,
   "id": "5b5038ac",
   "metadata": {},
   "outputs": [],
   "source": [
    "def rotation_mires(path): #prend en argument une image cablée, renvoie la rotation des mires.\n",
    "    img_cablee = cv.imread(path)\n",
    "    path_non_cablee = 'ModulePictures/' + trouver_la_paire(path,\"ModulePictures\")\n",
    "    img_non_cablee = cv.imread(path_non_cablee)\n",
    "\n",
    "    relative_slope = horiz_pcb(img_non_cablee)[0] - mires(img_non_cablee)[1]\n",
    "\n",
    "    return tourner_image(img_cablee, horiz_pcb(img_cablee)[0] - relative_slope)"
   ]
  },
  {
   "cell_type": "code",
   "execution_count": 11,
   "id": "72bf5174",
   "metadata": {},
   "outputs": [],
   "source": [
    "def trouve_cercle(img):\n",
    "    \n",
    "    assert img is not None, \"file could not be read, check with os.path.exists()\"\n",
    "\n",
    "    (height,width) = img.shape\n",
    "\n",
    "    img = img[height//8 : height//3, width//2 - 500 : width//2 + 500]\n",
    "\n",
    "    img = cv.medianBlur(img,5)\n",
    "    cimg = cv.cvtColor(img,cv.COLOR_GRAY2BGR)\n",
    "\n",
    "    circles = cv.HoughCircles(img,cv.HOUGH_GRADIENT,1,1e5,\n",
    "                                param1=50,param2=30,minRadius=200,maxRadius=400)\n",
    "\n",
    "    circles = np.uint16(np.around(circles))\n",
    "\n",
    "    return circles[0,0][:2] + [width//2 - 500, height//8]"
   ]
  },
  {
   "cell_type": "code",
   "execution_count": 13,
   "id": "9f7cfa12",
   "metadata": {},
   "outputs": [],
   "source": [
    "def trouve_ligne(img):\n",
    "\n",
    "    (height,width) = img.shape\n",
    "\n",
    "    img = img[height//3 : height//2, width//2 - 200 : width//2 + 200]\n",
    "\n",
    "    img = cv.medianBlur(img,3)\n",
    "\n",
    "    dst = cv.Canny(img, 50, 200, None, 3)\n",
    "\n",
    "    lines = cv.HoughLines(dst, 1, np.pi / 360, 220, None, 0, 0,min_theta=-np.pi/8, max_theta=np.pi/8)\n",
    "\n",
    "    lines = lines[:2,0,:]\n",
    "\n",
    "    median_line = np.mean(lines,axis=0)\n",
    "\n",
    "    return median_line, width//2 - 200, height//2\n",
    "    #return ([int(lines[0,0,0]/np.cos(lines[0,0,1]) + width//2 - 200), height//2], [int(lines[1,0,0]/np.cos(lines[1,0,1]) + width//2 - 200), height//2])"
   ]
  },
  {
   "cell_type": "code",
   "execution_count": 14,
   "id": "e49502fc",
   "metadata": {},
   "outputs": [],
   "source": [
    "def normalize(v):\n",
    "    norm = np.linalg.norm(v)\n",
    "    if norm == 0: \n",
    "       return v\n",
    "    return v / norm"
   ]
  },
  {
   "cell_type": "code",
   "execution_count": 15,
   "id": "3a6b7588",
   "metadata": {},
   "outputs": [],
   "source": [
    "def matrice_psg(img):\n",
    "    [rho,theta],alpha,beta = trouve_ligne(cv.cvtColor(img,cv.COLOR_BGR2GRAY))\n",
    "    [_,c],[_,d], dilatation = horiz_pcb(img) #Droite horizontale y = cx + d\n",
    "\n",
    "    if theta==0 :\n",
    "        pt_intersection = (int(alpha + rho), int(c*(alpha+rho) + d))\n",
    "        vert_vector = np.array([0,1])\n",
    "    else :\n",
    "\n",
    "        a = -(np.cos(theta)/np.sin(theta))\n",
    "        b = rho/np.sin(theta) + beta - alpha/np.tan(theta) #Droite verticale y = ax + b\n",
    "\n",
    "        x = int((d-b)/(a-c))\n",
    "        pt_intersection = (x,int(a*x+b))\n",
    "\n",
    "        vert_vector = normalize(np.array([1,a]))\n",
    "    \n",
    "    horiz_vector = normalize(np.array([1,c]))\n",
    "\n",
    "    matrice_passage = np.transpose(np.array([horiz_vector,vert_vector])) #Matrice de passage de l'espace normal à l'espace qui nous intéresse\n",
    "\n",
    "    return matrice_passage, pt_intersection, dilatation\n",
    "    "
   ]
  },
  {
   "cell_type": "code",
   "execution_count": null,
   "id": "fd5bb6df",
   "metadata": {},
   "outputs": [],
   "source": [
    "path = liste_cablees[13]\n",
    "def mires_cablees(path):\n",
    "    img_cablee = cv.imread(path)\n",
    "    img_non_cablee = cv.imread('ModulePictures/' + trouver_la_paire(path,\"ModulePictures\"))\n",
    "\n",
    "    centres_mires = mires(img_non_cablee)\n",
    "\n",
    "    ## ON TROUVE DANS L'ESPACE DE BASE L'EXPRESSION DE LA POSITION DES MIRES\n",
    "\n",
    "    matrice_passage_init, pt_intersection_init, dilatation_init = matrice_psg(img_non_cablee)\n",
    "\n",
    "    ## ON RETROUVE L'ESPACE ASSOCIE A LA CARTE PCB SUR L'IMAGE CABLEE\n",
    "\n",
    "    matrice_passage_dst, pt_intersection_dst, dilatation_dst = matrice_psg(img_cablee)\n",
    "\n",
    "    dilatation = dilatation_dst/dilatation_init\n",
    "\n",
    "    nouveaux_centres = []\n",
    "    for centre in centres_mires:\n",
    "        nouveaux_centres.append(np.dot(np.linalg.inv(matrice_passage_dst),dilatation*np.dot(matrice_passage_init,centre - pt_intersection_init)) + pt_intersection_dst)\n",
    "\n",
    "    nouveaux_centres = np.array(nouveaux_centres).astype(np.int16)\n",
    "\n",
    "    return nouveaux_centres\n"
   ]
  },
  {
   "cell_type": "code",
   "execution_count": 68,
   "id": "02a75462",
   "metadata": {},
   "outputs": [],
   "source": [
    "def repere_absolu(path):\n",
    "    centres = mires_cablees(path)\n",
    "\n",
    "    a = sum([(centres[i+4,0]-centres[i,0])/(centres[i+4,1]-centres[i,1]) for i in range(0,4)])/4 #Pente horizontale moyenne\n",
    "    origine = np.mean(centres,axis=0).astype(np.int16)\n",
    "\n",
    "    mat_passage = 1/np.sqrt(a**2 + 1) * np.array([[1,-a],[a,1]])\n",
    "\n",
    "    return mat_passage, origine"
   ]
  },
  {
   "cell_type": "code",
   "execution_count": 69,
   "id": "ece29ca3",
   "metadata": {},
   "outputs": [
    {
     "data": {
      "text/plain": [
       "(array([[ 0.00824386,  0.99996602],\n",
       "        [-0.99996602,  0.00824386]]),\n",
       " array([3398, 2783], dtype=int16))"
      ]
     },
     "execution_count": 69,
     "metadata": {},
     "output_type": "execute_result"
    }
   ],
   "source": [
    "path = liste_cablees[13]\n",
    "repere_absolu(path)"
   ]
  },
  {
   "cell_type": "code",
   "execution_count": null,
   "id": "2cc5d6ef",
   "metadata": {},
   "outputs": [],
   "source": []
  }
 ],
 "metadata": {
  "kernelspec": {
   "display_name": "base",
   "language": "python",
   "name": "python3"
  },
  "language_info": {
   "codemirror_mode": {
    "name": "ipython",
    "version": 3
   },
   "file_extension": ".py",
   "mimetype": "text/x-python",
   "name": "python",
   "nbconvert_exporter": "python",
   "pygments_lexer": "ipython3",
   "version": "3.12.4"
  }
 },
 "nbformat": 4,
 "nbformat_minor": 5
}
