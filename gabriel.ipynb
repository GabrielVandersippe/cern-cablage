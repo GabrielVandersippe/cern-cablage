{
 "cells": [
  {
   "cell_type": "code",
   "execution_count": 2,
   "id": "4f278030",
   "metadata": {},
   "outputs": [],
   "source": [
    "import numpy as np\n",
    "import cv2 as cv\n",
    "import matplotlib.pyplot as plt\n",
    "import os"
   ]
  },
  {
   "cell_type": "code",
   "execution_count": 3,
   "id": "b39dd01f",
   "metadata": {},
   "outputs": [],
   "source": [
    "## Ne garder que les images non câblées\n",
    "\n",
    "liste=[]\n",
    "dossier=\"ModulePictures\"\n",
    "\n",
    "for fichier in os.listdir(dossier):\n",
    "    if os.path.isfile(os.path.join(dossier, fichier)) and (\"Reception\" in os.path.basename(fichier)):\n",
    "        liste.append(str(dossier + \"/\"+ os.path.basename(fichier)))"
   ]
  },
  {
   "cell_type": "code",
   "execution_count": 79,
   "id": "58744763",
   "metadata": {},
   "outputs": [],
   "source": [
    "def mires(path, draw = True):\n",
    "\n",
    "    #Lecture de l'image en noir et blanc\n",
    "    img = cv.imread(path, cv.IMREAD_GRAYSCALE)\n",
    "    assert img is not None, \"file could not be read, check with os.path.exists()\"\n",
    "\n",
    "    (height,length) = img.shape\n",
    "\n",
    "    ## TODO : changer cette extraction à la main par quelque chose d'automatisé\n",
    "    sliceparams = [(100, 400, 300, 600, 1),  \n",
    "                   (-400, -100, 300, 600, 1),\n",
    "                   (3800, 4200, 500, 800, 2), \n",
    "                   (100, 400, -600,-300, 1), \n",
    "                   (-400, -100, -600, -300, 1), \n",
    "                   (3800, 4200, -800, -500, 2)]\n",
    "\n",
    "    nbmires = 1\n",
    "    cimg = cv.cvtColor(img,cv.COLOR_GRAY2BGR)\n",
    "\n",
    "    centers = []\n",
    "\n",
    "    for (beg1, end1, beg2, end2, nbmires) in sliceparams :\n",
    "        mask = img[beg1:end1, beg2:end2]\n",
    "\n",
    "        #Blur pour réduire le bruit\n",
    "        mask = cv.medianBlur(mask,5)\n",
    "        #Fonction qui détecte les cercles.\n",
    "        circles = cv.HoughCircles(mask,cv.HOUGH_GRADIENT,1,minDist = 100,\n",
    "                                    param1=50,param2=20,minRadius=20 ,maxRadius=30)\n",
    "\n",
    "        if circles is not None:\n",
    "            circles = np.int16(np.around(circles))\n",
    "            for i in circles[0,:nbmires]:\n",
    "                \n",
    "                centers.append((i[1]+beg1%height, i[0]+beg2%length)) #Attention ici j'inverse x,y afin de travailler en lignes/colonnes\n",
    "                #centers.append((beg1,end1,beg2,end2))\n",
    "\n",
    "                #Dessin des cercles\n",
    "                if draw :\n",
    "                    cv.circle(cimg,(i[0]+beg2%length,i[1]+beg1%height),i[2],(0,255,0),20)\n",
    "                    cv.circle(cimg,(i[0]+beg2%length,i[1]+beg1%height),2,(0,0,255),3)\n",
    "\n",
    "    if draw :\n",
    "        plt.imshow(cimg)\n",
    "        plt.show()\n",
    "\n",
    "    assert len(centers) == 8, \"Mires manquantes\"\n",
    "\n",
    "    slope = sum([(centers[i+4][0]-centers[i][0])/(centers[i+4][1]-centers[i][1]) for i in range(0,4)])/4\n",
    "\n",
    "    return centers,slope"
   ]
  },
  {
   "cell_type": "code",
   "execution_count": 81,
   "id": "90116c13",
   "metadata": {},
   "outputs": [
    {
     "name": "stdout",
     "output_type": "stream",
     "text": [
      "([(np.int16(288), np.int16(522)), (np.int16(7657), np.int16(540)), (np.int16(3912), np.int16(720)), (np.int16(4052), np.int16(722)), (np.int16(274), np.int16(7697)), (np.int16(7637), np.int16(7713)), (np.int16(3894), np.int16(7517)), (np.int16(4032), np.int16(7519))], np.float64(-0.0025825387365931178))\n"
     ]
    }
   ],
   "source": [
    "centresTest = mires(liste[6], False)\n",
    "print(centresTest)"
   ]
  },
  {
   "cell_type": "code",
   "execution_count": null,
   "id": "20c70fa6",
   "metadata": {},
   "outputs": [],
   "source": []
  }
 ],
 "metadata": {
  "kernelspec": {
   "display_name": "base",
   "language": "python",
   "name": "python3"
  },
  "language_info": {
   "codemirror_mode": {
    "name": "ipython",
    "version": 3
   },
   "file_extension": ".py",
   "mimetype": "text/x-python",
   "name": "python",
   "nbconvert_exporter": "python",
   "pygments_lexer": "ipython3",
   "version": "3.12.4"
  }
 },
 "nbformat": 4,
 "nbformat_minor": 5
}
