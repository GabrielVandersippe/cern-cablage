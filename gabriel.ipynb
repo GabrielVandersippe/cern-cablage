{
 "cells": [
  {
   "cell_type": "code",
   "execution_count": 4,
   "id": "4f278030",
   "metadata": {},
   "outputs": [],
   "source": [
    "import numpy as np\n",
    "import cv2 as cv\n",
    "import matplotlib.pyplot as plt\n",
    "import os"
   ]
  },
  {
   "cell_type": "code",
   "execution_count": 10,
   "id": "b39dd01f",
   "metadata": {},
   "outputs": [],
   "source": [
    "## Ne garder que les images non câblées\n",
    "\n",
    "liste=[]\n",
    "dossier=\"ModulePictures\"\n",
    "\n",
    "for fichier in os.listdir(dossier):\n",
    "    if os.path.isfile(os.path.join(dossier, fichier)) and (\"Reception\" in os.path.basename(fichier)):\n",
    "        liste.append(str(dossier + \"/\"+ os.path.basename(fichier)))"
   ]
  },
  {
   "cell_type": "code",
   "execution_count": null,
   "id": "58744763",
   "metadata": {},
   "outputs": [],
   "source": [
    "for path in liste :\n",
    "    #Lecture de l'image en noir et blanc\n",
    "    img = cv.imread(path, cv.IMREAD_GRAYSCALE)\n",
    "    assert img is not None, \"file could not be read, check with os.path.exists()\"\n",
    "\n",
    "    ## TODO : changer cette extraction à la main par quelque chose d'automatisé\n",
    "    img = img[100:400,300:600]\n",
    "\n",
    "    #Blur pour réduire le bruit\n",
    "    img = cv.medianBlur(img,5)\n",
    "    cimg = cv.cvtColor(img,cv.COLOR_GRAY2BGR)\n",
    "\n",
    "    #FOnction qui détecte les cercles. minDist = 1e5 pour s'assurer qu'il n'en détecte qu'un => il ne faut qu'un cercle sur l'image.\n",
    "    circles = cv.HoughCircles(img,cv.HOUGH_GRADIENT,1,minDist = 1e5,\n",
    "                                param1=50,param2=20,minRadius=20,maxRadius=30)\n",
    "\n",
    "    #Dessin des cercles\n",
    "    circles = np.uint16(np.around(circles))\n",
    "    for i in circles[0,:]:\n",
    "        cv.circle(cimg,(i[0],i[1]),i[2],(0,255,0),2)\n",
    "        cv.circle(cimg,(i[0],i[1]),2,(0,0,255),3)\n",
    "\n",
    "    cv.imshow('detected circles',cimg)\n",
    "    cv.waitKey(0)\n",
    "    cv.destroyAllWindows()"
   ]
  },
  {
   "cell_type": "code",
   "execution_count": null,
   "id": "7dcc224a",
   "metadata": {},
   "outputs": [],
   "source": []
  }
 ],
 "metadata": {
  "kernelspec": {
   "display_name": "base",
   "language": "python",
   "name": "python3"
  },
  "language_info": {
   "codemirror_mode": {
    "name": "ipython",
    "version": 3
   },
   "file_extension": ".py",
   "mimetype": "text/x-python",
   "name": "python",
   "nbconvert_exporter": "python",
   "pygments_lexer": "ipython3",
   "version": "3.12.4"
  }
 },
 "nbformat": 4,
 "nbformat_minor": 5
}
