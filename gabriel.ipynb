{
 "cells": [
  {
   "cell_type": "code",
   "execution_count": 2,
   "id": "4f278030",
   "metadata": {},
   "outputs": [],
   "source": [
    "import numpy as np\n",
    "import cv2 as cv\n",
    "import matplotlib.pyplot as plt\n",
    "import os\n",
    "import imutils\n",
    "import scipy.stats as stats"
   ]
  },
  {
   "cell_type": "code",
   "execution_count": 3,
   "id": "b39dd01f",
   "metadata": {},
   "outputs": [],
   "source": [
    "## Ne garder que les images non câblées\n",
    "\n",
    "liste_non_cablees=[]\n",
    "dossier=\"ModulePictures\"\n",
    "\n",
    "for fichier in os.listdir(dossier):\n",
    "    if os.path.isfile(os.path.join(dossier, fichier)) and (\"Reception\" in os.path.basename(fichier)):\n",
    "        liste_non_cablees.append(str(dossier + \"/\"+ os.path.basename(fichier)))\n",
    "\n",
    "## Ne garder que les images câblées\n",
    "\n",
    "liste_cablees=[]\n",
    "dossier=\"ModulePictures\"\n",
    "\n",
    "for fichier in os.listdir(dossier):\n",
    "    if os.path.isfile(os.path.join(dossier, fichier)) and (\"AfterBonding\" in os.path.basename(fichier)):\n",
    "        liste_cablees.append(str(dossier + \"/\"+ os.path.basename(fichier)))\n"
   ]
  },
  {
   "cell_type": "code",
   "execution_count": 16,
   "id": "58744763",
   "metadata": {},
   "outputs": [],
   "source": [
    "def mires(img_input, draw = False):\n",
    "    \n",
    "    assert img_input is not None, \"file could not be read, check with os.path.exists()\"\n",
    "\n",
    "    img = cv.cvtColor(img_input,cv.COLOR_BGR2GRAY)\n",
    "\n",
    "    (height,length) = img.shape\n",
    "\n",
    "    ## TODO : changer cette extraction à la main par quelque chose d'automatisé\n",
    "    sliceparams = [(100, 400, 300, 600, 1),  \n",
    "                   (-400, -100, 300, 600, 1),\n",
    "                   (3800, 4200, 500, 800, 2), \n",
    "                   (100, 400, -600,-300, 1), \n",
    "                   (-400, -100, -600, -300, 1), \n",
    "                   (3800, 4200, -800, -500, 2)]\n",
    "\n",
    "    cimg = cv.cvtColor(img,cv.COLOR_GRAY2BGR)\n",
    "\n",
    "    centers = []\n",
    "\n",
    "    for (beg1, end1, beg2, end2, nbmires) in sliceparams :\n",
    "        mask = img[beg1:end1, beg2:end2]\n",
    "\n",
    "        #Blur pour réduire le bruit\n",
    "        mask = cv.medianBlur(mask,5)\n",
    "        #Fonction qui détecte les cercles.\n",
    "        circles = cv.HoughCircles(mask,cv.HOUGH_GRADIENT,1,minDist = 100,\n",
    "                                    param1=50,param2=20,minRadius=20 ,maxRadius=30)\n",
    "\n",
    "        if circles is not None:\n",
    "            circles = np.int16(np.around(circles))\n",
    "            for i in circles[0,:nbmires]:\n",
    "                \n",
    "                centers.append((i[1]+beg1%height, i[0]+beg2%length)) #Attention ici j'inverse x,y afin de travailler en lignes/colonnes\n",
    "\n",
    "                #Dessin des cercles\n",
    "                if draw :\n",
    "                    cv.circle(cimg,(i[0]+beg2%length,i[1]+beg1%height),i[2],(0,255,0),20)\n",
    "                    cv.circle(cimg,(i[0]+beg2%length,i[1]+beg1%height),2,(0,0,255),3)\n",
    "\n",
    "    if draw :\n",
    "        plt.imshow(cimg)\n",
    "        plt.show()\n",
    "\n",
    "    assert len(centers) == 8, \"Mires manquantes\"\n",
    "\n",
    "    slope = sum([(centers[i+4][0]-centers[i][0])/(centers[i+4][1]-centers[i][1]) for i in range(0,4)])/4\n",
    "\n",
    "    return centers,slope"
   ]
  },
  {
   "cell_type": "code",
   "execution_count": null,
   "id": "d8cee115",
   "metadata": {},
   "outputs": [],
   "source": [
    "#Détection à la main de la frontière supérieure verte :\n",
    "\n",
    "def slope_pcb(img) :\n",
    "\n",
    "    lower_bound = np.array([0, 40, 0])\n",
    "    upper_bound = np.array([40,110,110])\n",
    "    bwimg = cv.inRange(img, lower_bound, upper_bound)\n",
    "    imagemask_green = cv.medianBlur(bwimg,25)\n",
    "\n",
    "    middle = img.shape[1]//2\n",
    "\n",
    "    top_contour = np.zeros((1000,2),dtype=np.int32)\n",
    "    bot_contour = np.zeros((1000,2),dtype=np.int32)\n",
    "\n",
    "    for j in range(middle - 2000, middle - 1000, 2) :\n",
    "\n",
    "        top_contour[(j - middle + 2000)//2] = [j,min(np.where(imagemask_green[:,j] == 255)[0])]\n",
    "        bot_contour[(j - middle + 2000)//2] = [j,max(np.where(imagemask_green[:,j] == 255)[0])]\n",
    "\n",
    "    for j in range(middle + 1000, middle + 2000, 2) : \n",
    "\n",
    "        top_contour[(j - middle)//2] = [j,min(np.where(imagemask_green[:,j] == 255)[0])]\n",
    "        bot_contour[(j - middle)//2] = [j,max(np.where(imagemask_green[:,j] == 255)[0])]\n",
    "\n",
    "    slope = 0.5*(stats.linregress(top_contour[:,0], top_contour[:,1]).slope + stats.linregress(bot_contour[:,0], bot_contour[:,1]).slope)\n",
    "\n",
    "    return slope"
   ]
  },
  {
   "cell_type": "code",
   "execution_count": 18,
   "id": "ade570db",
   "metadata": {},
   "outputs": [],
   "source": [
    "## Fonctions utiles\n",
    "\n",
    "def tourner_image(image, pente):\n",
    "    return imutils.rotate(image, np.arctan(pente))\n",
    "\n",
    "def trouver_la_paire(fichier, dossier):\n",
    "    bname=os.path.basename(fichier)\n",
    "    if \"AfterBonding\" in bname:\n",
    "        name=bname[:bname.find(\"AfterBonding\")]\n",
    "        for f in os.listdir(dossier):\n",
    "            if \"Reception\" in os.path.basename(f):\n",
    "                if os.path.basename(f)[:os.path.basename(f).find(\"Reception\")]==name:\n",
    "                    return f\n",
    "    elif \"Reception\" in bname:\n",
    "        name=bname[:bname.find(\"Reception\")]\n",
    "        for f in os.listdir(dossier):\n",
    "            if \"AfterBonding\" in os.path.basename(f):\n",
    "                if os.path.basename(f)[:os.path.basename(f).find(\"AfterBonding\")]==name:\n",
    "                    return f\n",
    "    return \"Pas de paire\""
   ]
  },
  {
   "cell_type": "code",
   "execution_count": 19,
   "id": "3121b900",
   "metadata": {},
   "outputs": [
    {
     "data": {
      "text/plain": [
       "'20UPGM23210250_PPPV2_45_Reception_Glo_NoLight_AfterClean.jpg'"
      ]
     },
     "execution_count": 19,
     "metadata": {},
     "output_type": "execute_result"
    }
   ],
   "source": [
    "trouver_la_paire(liste_cablees[0],\"ModulePictures\")"
   ]
  },
  {
   "cell_type": "code",
   "execution_count": 40,
   "id": "3d1ca97f",
   "metadata": {},
   "outputs": [],
   "source": [
    "def afficher(img) :\n",
    "    cv.imshow(\"Image\", img)\n",
    "    cv.waitKey(0)\n",
    "    cv.destroyAllWindows()"
   ]
  },
  {
   "cell_type": "code",
   "execution_count": null,
   "id": "5b5038ac",
   "metadata": {},
   "outputs": [],
   "source": [
    "def rotation_mires(path): #prend en argument une image cablée, renvoie la rotation des mires.\n",
    "    img_cablee = cv.imread(path)\n",
    "    path_non_cablee = 'ModulePictures/' + trouver_la_paire(path,\"ModulePictures\")\n",
    "    img_non_cablee = cv.imread(path_non_cablee)\n",
    "\n",
    "    relative_slope = slope_pcb(img_non_cablee) - mires(img_non_cablee)[1]\n",
    "\n",
    "    return tourner_image(img_cablee, slope_pcb(img_cablee) - relative_slope)"
   ]
  },
  {
   "cell_type": "code",
   "execution_count": 64,
   "id": "218812ee",
   "metadata": {},
   "outputs": [
    {
     "name": "stdout",
     "output_type": "stream",
     "text": [
      "[[[11  7  2]\n",
      "  [ 5  1  0]\n",
      "  [14 10  5]\n",
      "  ...\n",
      "  [ 0  0  0]\n",
      "  [ 0  0  0]\n",
      "  [ 0  0  0]]\n",
      "\n",
      " [[ 4  1  0]\n",
      "  [ 4  1  0]\n",
      "  [ 5  2  0]\n",
      "  ...\n",
      "  [ 0  0  0]\n",
      "  [ 0  0  0]\n",
      "  [ 0  0  0]]\n",
      "\n",
      " [[ 1  1  1]\n",
      "  [ 5  5  5]\n",
      "  [ 0  0  0]\n",
      "  ...\n",
      "  [ 0  0  0]\n",
      "  [ 0  0  0]\n",
      "  [ 0  0  0]]\n",
      "\n",
      " ...\n",
      "\n",
      " [[ 4  6  7]\n",
      "  [ 1  3  4]\n",
      "  [ 5  4  8]\n",
      "  ...\n",
      "  [ 0  0  0]\n",
      "  [ 0  0  0]\n",
      "  [ 0  0  0]]\n",
      "\n",
      " [[ 0  0  1]\n",
      "  [ 0  0  1]\n",
      "  [ 5  1  6]\n",
      "  ...\n",
      "  [ 0  0  0]\n",
      "  [ 0  0  0]\n",
      "  [ 0  0  0]]\n",
      "\n",
      " [[ 0  2  3]\n",
      "  [ 0  0  1]\n",
      "  [ 4  0  5]\n",
      "  ...\n",
      "  [ 0  0  0]\n",
      "  [ 0  0  0]\n",
      "  [ 0  0  0]]]\n"
     ]
    }
   ],
   "source": [
    "afficher(rotation_mires(liste_cablees[0]))"
   ]
  },
  {
   "cell_type": "code",
   "execution_count": 24,
   "id": "af60f0a0",
   "metadata": {},
   "outputs": [
    {
     "data": {
      "text/plain": [
       "np.float64(-0.0003850708407244058)"
      ]
     },
     "execution_count": 24,
     "metadata": {},
     "output_type": "execute_result"
    }
   ],
   "source": [
    "img_cablee = cv.imread(liste_cablees[0])\n",
    "slope_pcb(img_cablee)\n"
   ]
  },
  {
   "cell_type": "code",
   "execution_count": 51,
   "id": "82b45aec",
   "metadata": {},
   "outputs": [
    {
     "data": {
      "text/plain": [
       "'ModulePictures/20UPGM23210250_PPPV2_45_Reception_Glo_NoLight_AfterClean.jpg'"
      ]
     },
     "execution_count": 51,
     "metadata": {},
     "output_type": "execute_result"
    }
   ],
   "source": [
    "'ModulePictures/' + trouver_la_paire(liste_cablees[0],\"ModulePictures\")"
   ]
  },
  {
   "cell_type": "code",
   "execution_count": 57,
   "id": "dd371ad4",
   "metadata": {},
   "outputs": [
    {
     "data": {
      "text/plain": [
       "'ModulePictures/20UPGM23210250_PPPV2_45_Reception_Glo_NoLight_AfterClean.jpg'"
      ]
     },
     "execution_count": 57,
     "metadata": {},
     "output_type": "execute_result"
    }
   ],
   "source": [
    "liste_non_cablees[0]"
   ]
  },
  {
   "cell_type": "code",
   "execution_count": 60,
   "id": "804740de",
   "metadata": {},
   "outputs": [
    {
     "data": {
      "text/plain": [
       "array([[[11,  7,  2],\n",
       "        [ 5,  1,  0],\n",
       "        [14, 10,  5],\n",
       "        ...,\n",
       "        [ 0,  0,  0],\n",
       "        [ 0,  0,  0],\n",
       "        [ 0,  0,  0]],\n",
       "\n",
       "       [[ 4,  1,  0],\n",
       "        [ 4,  1,  0],\n",
       "        [ 5,  2,  0],\n",
       "        ...,\n",
       "        [ 0,  0,  0],\n",
       "        [ 0,  0,  0],\n",
       "        [ 0,  0,  0]],\n",
       "\n",
       "       [[ 1,  1,  1],\n",
       "        [ 5,  5,  5],\n",
       "        [ 0,  0,  0],\n",
       "        ...,\n",
       "        [ 0,  0,  0],\n",
       "        [ 0,  0,  0],\n",
       "        [ 0,  0,  0]],\n",
       "\n",
       "       ...,\n",
       "\n",
       "       [[ 4,  6,  7],\n",
       "        [ 1,  3,  4],\n",
       "        [ 5,  4,  8],\n",
       "        ...,\n",
       "        [ 0,  0,  0],\n",
       "        [ 0,  0,  0],\n",
       "        [ 0,  0,  0]],\n",
       "\n",
       "       [[ 0,  0,  1],\n",
       "        [ 0,  0,  1],\n",
       "        [ 5,  1,  6],\n",
       "        ...,\n",
       "        [ 0,  0,  0],\n",
       "        [ 0,  0,  0],\n",
       "        [ 0,  0,  0]],\n",
       "\n",
       "       [[ 0,  2,  3],\n",
       "        [ 0,  0,  1],\n",
       "        [ 4,  0,  5],\n",
       "        ...,\n",
       "        [ 0,  0,  0],\n",
       "        [ 0,  0,  0],\n",
       "        [ 0,  0,  0]]], dtype=uint8)"
      ]
     },
     "execution_count": 60,
     "metadata": {},
     "output_type": "execute_result"
    }
   ],
   "source": [
    "cv.imread(liste_non_cablees[0])"
   ]
  },
  {
   "cell_type": "code",
   "execution_count": null,
   "id": "72bf5174",
   "metadata": {},
   "outputs": [],
   "source": []
  }
 ],
 "metadata": {
  "kernelspec": {
   "display_name": "base",
   "language": "python",
   "name": "python3"
  },
  "language_info": {
   "codemirror_mode": {
    "name": "ipython",
    "version": 3
   },
   "file_extension": ".py",
   "mimetype": "text/x-python",
   "name": "python",
   "nbconvert_exporter": "python",
   "pygments_lexer": "ipython3",
   "version": "3.12.4"
  }
 },
 "nbformat": 4,
 "nbformat_minor": 5
}
