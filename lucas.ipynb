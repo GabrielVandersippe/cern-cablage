{
 "cells": [
  {
   "cell_type": "code",
   "execution_count": 3,
   "id": "00ae701d",
   "metadata": {},
   "outputs": [],
   "source": [
    "import cv2\n",
    "import numpy as np\n",
    "import matplotlib.pyplot as plt\n",
    "import json"
   ]
  },
  {
   "cell_type": "code",
   "execution_count": 4,
   "id": "45593cf3",
   "metadata": {},
   "outputs": [
    {
     "data": {
      "text/plain": [
       "(5504, 6880, 3)"
      ]
     },
     "execution_count": 4,
     "metadata": {},
     "output_type": "execute_result"
    }
   ],
   "source": [
    "image = cv2.imread(\"1005_20UPGM23211816_AfterBonding.jpg\")\n",
    "image.shape"
   ]
  },
  {
   "cell_type": "code",
   "execution_count": 5,
   "id": "dc96777a",
   "metadata": {},
   "outputs": [],
   "source": [
    "## Trouver la colonne verte à gauche\n",
    "\n",
    "def find_column_left(image):\n",
    "    colonnes=[image[:,i,:] for i in range(image.shape[1])]\n",
    "    i=0\n",
    "    bool=False\n",
    "    while not bool and i<len(colonnes):\n",
    "        col=colonnes[i]\n",
    "        for pix in col:\n",
    "            if (pix[1]>50) and (pix[0]<30) and (pix[2]<30):\n",
    "                bool=True\n",
    "        if not bool:\n",
    "            i+=1\n",
    "    return i, colonnes[i]"
   ]
  },
  {
   "cell_type": "code",
   "execution_count": 6,
   "id": "54058529",
   "metadata": {},
   "outputs": [],
   "source": [
    "# Même chose à droite\n",
    "\n",
    "def find_column_right(image):\n",
    "    colonnes=[image[:,i,:] for i in range(image.shape[1])]\n",
    "    i=image.shape[1]-1\n",
    "    bool=False\n",
    "    while not bool and i>=0:\n",
    "        col=colonnes[i]\n",
    "        for pix in col:\n",
    "            if (pix[1]>50) and (pix[0]<30) and (pix[2]<30):\n",
    "                bool=True\n",
    "        if not bool:\n",
    "            i-=1\n",
    "    return i, colonnes[i]"
   ]
  },
  {
   "cell_type": "code",
   "execution_count": 7,
   "id": "23e6b48c",
   "metadata": {},
   "outputs": [
    {
     "name": "stdout",
     "output_type": "stream",
     "text": [
      "702.0\n"
     ]
    }
   ],
   "source": [
    "# Compte le nombre de fils du module\n",
    "\n",
    "def count(image, column_left, column_right) :\n",
    "    state = False\n",
    "    levels = np.arange(0.6, 1.0, 0.01)\n",
    "    counters = np.zeros(levels.shape[0])\n",
    "    for j in range(levels.shape[0]) :\n",
    "        for i in range(image.shape[0]) :\n",
    "            if (image[i,column_left-5:column_left+5].sum()/(255*10*3)) > levels[j] :\n",
    "                if not(state) :\n",
    "                    counters[j]+=1\n",
    "                    state = True\n",
    "            else :\n",
    "                state = False\n",
    "    state = False\n",
    "    for j in range(levels.shape[0]) :\n",
    "        for i in range(image.shape[0]) :\n",
    "            if (image[i,column_right-5:column_right+5].sum()/(255*10*3)) > levels[j] :\n",
    "                if not(state) :\n",
    "                    counters[j]+=1\n",
    "                    state = True\n",
    "            else :\n",
    "                state = False\n",
    "    unique, counts = np.unique(counters, return_counts=True)\n",
    "    arg = np.argmax(counts)\n",
    "    return (unique[arg])\n",
    "\n",
    "# counters = count(image, column_left=777, column_right=6080)\n",
    "# plt.plot(np.arange(0.6, 1.0, 0.01), counters)\n",
    "\n",
    "print(count(image, column_left=777, column_right=6080))"
   ]
  },
  {
   "cell_type": "code",
   "execution_count": 8,
   "id": "f4bd8d4f",
   "metadata": {},
   "outputs": [
    {
     "name": "stdout",
     "output_type": "stream",
     "text": [
      "700.0\n"
     ]
    }
   ],
   "source": [
    "image2 = cv2.imread(\"ModulePictures/20UPGM23211355_PPPV2_46_AfterBonding.jpg\")\n",
    "print(count(image2, column_left=777, column_right=6080))"
   ]
  },
  {
   "cell_type": "code",
   "execution_count": 9,
   "id": "1ffdc0bc",
   "metadata": {},
   "outputs": [
    {
     "name": "stdout",
     "output_type": "stream",
     "text": [
      "700.0\n"
     ]
    }
   ],
   "source": [
    "image3 = cv2.imread(\"ModulePictures/P1008_20UPGM23210595_AfterWirebonding.jpg\")\n",
    "print(count(image3, column_left=777, column_right=6080))"
   ]
  },
  {
   "cell_type": "code",
   "execution_count": 10,
   "id": "c397b000",
   "metadata": {},
   "outputs": [
    {
     "name": "stdout",
     "output_type": "stream",
     "text": [
      "699.0\n"
     ]
    }
   ],
   "source": [
    "image4 = cv2.imread(\"ModulePictures/P1014_20UPGM23211689_AfterWirebonding.jpg\")\n",
    "print(count(image4, column_left=840, column_right=6080))"
   ]
  },
  {
   "cell_type": "code",
   "execution_count": 11,
   "id": "f48bb947",
   "metadata": {},
   "outputs": [],
   "source": [
    "with open(\"iref_trim_per_module.json\", \"r\") as f:\n",
    "    data = json.load(f)"
   ]
  },
  {
   "cell_type": "code",
   "execution_count": 21,
   "id": "de394cbb",
   "metadata": {},
   "outputs": [],
   "source": [
    "def iref_trim (serialNumber, data) :\n",
    "    return (data['serialNumber'==serialNumber]['IREF_TRIM_1'], data['serialNumber'==serialNumber]['IREF_TRIM_2'], data['serialNumber'==serialNumber]['IREF_TRIM_3'], data['serialNumber'==serialNumber]['IREF_TRIM_4'])"
   ]
  },
  {
   "cell_type": "code",
   "execution_count": 22,
   "id": "7e460546",
   "metadata": {},
   "outputs": [
    {
     "data": {
      "text/plain": [
       "(13, 11, 8, 6)"
      ]
     },
     "execution_count": 22,
     "metadata": {},
     "output_type": "execute_result"
    }
   ],
   "source": [
    "iref_trim('20UPGM23210148', data)"
   ]
  },
  {
   "cell_type": "code",
   "execution_count": null,
   "id": "6c0ef1bd",
   "metadata": {},
   "outputs": [],
   "source": [
    "def extract_serial_number (file_name) :\n",
    "    file_name.split"
   ]
  },
  {
   "cell_type": "code",
   "execution_count": 24,
   "id": "757d7c77",
   "metadata": {},
   "outputs": [
    {
     "data": {
      "text/plain": [
       "['1005', '20UPGM23211816', 'AfterBonding']"
      ]
     },
     "execution_count": 24,
     "metadata": {},
     "output_type": "execute_result"
    }
   ],
   "source": [
    "name = \"1005_20UPGM23211816_AfterBonding\"\n",
    "name.split(\"_\")"
   ]
  },
  {
   "cell_type": "code",
   "execution_count": null,
   "id": "5f4b1951",
   "metadata": {},
   "outputs": [],
   "source": []
  }
 ],
 "metadata": {
  "kernelspec": {
   "display_name": "base",
   "language": "python",
   "name": "python3"
  },
  "language_info": {
   "codemirror_mode": {
    "name": "ipython",
    "version": 3
   },
   "file_extension": ".py",
   "mimetype": "text/x-python",
   "name": "python",
   "nbconvert_exporter": "python",
   "pygments_lexer": "ipython3",
   "version": "3.13.2"
  }
 },
 "nbformat": 4,
 "nbformat_minor": 5
}
