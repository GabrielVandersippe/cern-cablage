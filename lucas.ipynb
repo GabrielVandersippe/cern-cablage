{
 "cells": [
  {
   "cell_type": "code",
   "execution_count": 3,
   "id": "00ae701d",
   "metadata": {},
   "outputs": [],
   "source": [
    "import cv2\n",
    "import numpy as np\n",
    "import matplotlib.pyplot as plt\n",
    "import json"
   ]
  },
  {
   "cell_type": "code",
   "execution_count": 4,
   "id": "45593cf3",
   "metadata": {},
   "outputs": [
    {
     "data": {
      "text/plain": [
       "(5504, 6880, 3)"
      ]
     },
     "execution_count": 4,
     "metadata": {},
     "output_type": "execute_result"
    }
   ],
   "source": [
    "image = cv2.imread(\"1005_20UPGM23211816_AfterBonding.jpg\")\n",
    "image.shape"
   ]
  },
  {
   "cell_type": "code",
   "execution_count": 5,
   "id": "dc96777a",
   "metadata": {},
   "outputs": [],
   "source": [
    "## Trouver la colonne verte à gauche\n",
    "\n",
    "def find_column_left(image):\n",
    "    colonnes=[image[:,i,:] for i in range(image.shape[1])]\n",
    "    i=0\n",
    "    bool=False\n",
    "    while not bool and i<len(colonnes):\n",
    "        col=colonnes[i]\n",
    "        for pix in col:\n",
    "            if (pix[1]>50) and (pix[0]<30) and (pix[2]<30):\n",
    "                bool=True\n",
    "        if not bool:\n",
    "            i+=1\n",
    "    return i, colonnes[i]"
   ]
  },
  {
   "cell_type": "code",
   "execution_count": 6,
   "id": "54058529",
   "metadata": {},
   "outputs": [],
   "source": [
    "# Même chose à droite\n",
    "\n",
    "def find_column_right(image):\n",
    "    colonnes=[image[:,i,:] for i in range(image.shape[1])]\n",
    "    i=image.shape[1]-1\n",
    "    bool=False\n",
    "    while not bool and i>=0:\n",
    "        col=colonnes[i]\n",
    "        for pix in col:\n",
    "            if (pix[1]>50) and (pix[0]<30) and (pix[2]<30):\n",
    "                bool=True\n",
    "        if not bool:\n",
    "            i-=1\n",
    "    return i, colonnes[i]"
   ]
  },
  {
   "cell_type": "code",
   "execution_count": 7,
   "id": "23e6b48c",
   "metadata": {},
   "outputs": [
    {
     "name": "stdout",
     "output_type": "stream",
     "text": [
      "702.0\n"
     ]
    }
   ],
   "source": [
    "# Compte le nombre de fils du module\n",
    "\n",
    "def count(image, column_left, column_right) :\n",
    "    state = False\n",
    "    levels = np.arange(0.6, 1.0, 0.01)\n",
    "    counters = np.zeros(levels.shape[0])\n",
    "    for j in range(levels.shape[0]) :\n",
    "        for i in range(image.shape[0]) :\n",
    "            if (image[i,column_left-5:column_left+5].sum()/(255*10*3)) > levels[j] :\n",
    "                if not(state) :\n",
    "                    counters[j]+=1\n",
    "                    state = True\n",
    "            else :\n",
    "                state = False\n",
    "    state = False\n",
    "    for j in range(levels.shape[0]) :\n",
    "        for i in range(image.shape[0]) :\n",
    "            if (image[i,column_right-5:column_right+5].sum()/(255*10*3)) > levels[j] :\n",
    "                if not(state) :\n",
    "                    counters[j]+=1\n",
    "                    state = True\n",
    "            else :\n",
    "                state = False\n",
    "    unique, counts = np.unique(counters, return_counts=True)\n",
    "    arg = np.argmax(counts)\n",
    "    return (unique[arg])\n",
    "\n",
    "# counters = count(image, column_left=777, column_right=6080)\n",
    "# plt.plot(np.arange(0.6, 1.0, 0.01), counters)\n",
    "\n",
    "print(count(image, column_left=777, column_right=6080))"
   ]
  },
  {
   "cell_type": "code",
   "execution_count": 52,
   "id": "f4bd8d4f",
   "metadata": {},
   "outputs": [
    {
     "name": "stdout",
     "output_type": "stream",
     "text": [
      "700.0\n"
     ]
    }
   ],
   "source": [
    "image2 = cv2.imread(\"ModulePictures/20UPGM23211355_PPPV2_46_AfterBonding.jpg\")\n",
    "print(count(image2, column_left=777, column_right=6080))"
   ]
  },
  {
   "cell_type": "code",
   "execution_count": 9,
   "id": "1ffdc0bc",
   "metadata": {},
   "outputs": [
    {
     "name": "stdout",
     "output_type": "stream",
     "text": [
      "700.0\n"
     ]
    }
   ],
   "source": [
    "image3 = cv2.imread(\"ModulePictures/P1008_20UPGM23210595_AfterWirebonding.jpg\")\n",
    "print(count(image3, column_left=777, column_right=6080))"
   ]
  },
  {
   "cell_type": "code",
   "execution_count": 10,
   "id": "c397b000",
   "metadata": {},
   "outputs": [
    {
     "name": "stdout",
     "output_type": "stream",
     "text": [
      "699.0\n"
     ]
    }
   ],
   "source": [
    "image4 = cv2.imread(\"ModulePictures/P1014_20UPGM23211689_AfterWirebonding.jpg\")\n",
    "print(count(image4, column_left=840, column_right=6080))"
   ]
  },
  {
   "cell_type": "code",
   "execution_count": 11,
   "id": "f48bb947",
   "metadata": {},
   "outputs": [],
   "source": [
    "with open(\"iref_trim_per_module.json\", \"r\") as f:\n",
    "    data = json.load(f)"
   ]
  },
  {
   "cell_type": "code",
   "execution_count": 42,
   "id": "de394cbb",
   "metadata": {},
   "outputs": [],
   "source": [
    "def iref_trim (serialNumber, data) :\n",
    "    error = True\n",
    "    for x in data :\n",
    "        if x['serialNumber'] == serialNumber :\n",
    "            iref = x\n",
    "            error = False\n",
    "    if error :\n",
    "        return (\"serialNumber not found\")\n",
    "    return (iref['IREF_TRIM_1'], iref['IREF_TRIM_2'], iref['IREF_TRIM_3'], iref['IREF_TRIM_4'])"
   ]
  },
  {
   "cell_type": "code",
   "execution_count": 43,
   "id": "7e460546",
   "metadata": {},
   "outputs": [
    {
     "data": {
      "text/plain": [
       "(13, 11, 8, 6)"
      ]
     },
     "execution_count": 43,
     "metadata": {},
     "output_type": "execute_result"
    }
   ],
   "source": [
    "iref_trim('20UPGM23210148', data)"
   ]
  },
  {
   "cell_type": "code",
   "execution_count": 44,
   "id": "6c0ef1bd",
   "metadata": {},
   "outputs": [],
   "source": [
    "def extract_serial_number (file_name) :\n",
    "    names = file_name.split(\"_\")\n",
    "    for x in names :\n",
    "        if \"20UPGM\" in x :\n",
    "            return (x)\n",
    "    return (None)"
   ]
  },
  {
   "cell_type": "code",
   "execution_count": null,
   "id": "5f4b1951",
   "metadata": {},
   "outputs": [
    {
     "data": {
      "text/plain": [
       "'20UPGM23211816'"
      ]
     },
     "execution_count": 45,
     "metadata": {},
     "output_type": "execute_result"
    }
   ],
   "source": [
    "extract_serial_number(\"1005_20UPGM23211816_AfterBonding\")"
   ]
  },
  {
   "cell_type": "code",
   "execution_count": 46,
   "id": "75b3ea3c",
   "metadata": {},
   "outputs": [],
   "source": [
    "def expected_wire_number (serialNumber, data) :\n",
    "    iref = iref_trim(serialNumber, data)\n",
    "    nb_wire_per_trim = [4, 3, 3, 2, 3, 2, 2, 1, 3, 2, 2, 1, 2, 1, 1, 0]\n",
    "    return (693 + nb_wire_per_trim[iref[0]] + nb_wire_per_trim[iref[1]] + nb_wire_per_trim[iref[2]] + nb_wire_per_trim[iref[3]])"
   ]
  },
  {
   "cell_type": "code",
   "execution_count": 47,
   "id": "beaa61d8",
   "metadata": {},
   "outputs": [
    {
     "data": {
      "text/plain": [
       "(8, 8, 9, 7)"
      ]
     },
     "execution_count": 47,
     "metadata": {},
     "output_type": "execute_result"
    }
   ],
   "source": [
    "serial = extract_serial_number(\"1005_20UPGM23211816_AfterBonding\")\n",
    "iref_trim(serial, data)"
   ]
  },
  {
   "cell_type": "code",
   "execution_count": 48,
   "id": "572a4896",
   "metadata": {},
   "outputs": [
    {
     "data": {
      "text/plain": [
       "702"
      ]
     },
     "execution_count": 48,
     "metadata": {},
     "output_type": "execute_result"
    }
   ],
   "source": [
    "expected_wire_number(serial, data)"
   ]
  },
  {
   "cell_type": "code",
   "execution_count": 65,
   "id": "0eb0ef97",
   "metadata": {},
   "outputs": [
    {
     "data": {
      "text/plain": [
       "(11, 9, 6, 10)"
      ]
     },
     "execution_count": 65,
     "metadata": {},
     "output_type": "execute_result"
    }
   ],
   "source": [
    "serial = extract_serial_number(\"20UPGM23211355_PPPV2_46_AfterBonding\")\n",
    "iref_trim(serial, data)"
   ]
  },
  {
   "cell_type": "code",
   "execution_count": 61,
   "id": "cb0a3d61",
   "metadata": {},
   "outputs": [],
   "source": [
    "def test_wire_number (file_name, data, column_left = 777, column_right = 6080) :\n",
    "    expected_nb = expected_wire_number(extract_serial_number(file_name), data)\n",
    "    real_nb = count(cv2.imread(\"ModulePictures/\" + file_name + \".jpg\"), column_left, column_right)\n",
    "    return (expected_nb == real_nb)"
   ]
  },
  {
   "cell_type": "code",
   "execution_count": 62,
   "id": "4c91ebe5",
   "metadata": {},
   "outputs": [
    {
     "data": {
      "text/plain": [
       "np.True_"
      ]
     },
     "execution_count": 62,
     "metadata": {},
     "output_type": "execute_result"
    }
   ],
   "source": [
    "test_wire_number(\"20UPGM23211355_PPPV2_46_AfterBonding\", data)"
   ]
  }
 ],
 "metadata": {
  "kernelspec": {
   "display_name": "base",
   "language": "python",
   "name": "python3"
  },
  "language_info": {
   "codemirror_mode": {
    "name": "ipython",
    "version": 3
   },
   "file_extension": ".py",
   "mimetype": "text/x-python",
   "name": "python",
   "nbconvert_exporter": "python",
   "pygments_lexer": "ipython3",
   "version": "3.13.2"
  }
 },
 "nbformat": 4,
 "nbformat_minor": 5
}
