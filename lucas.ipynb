{
 "cells": [
  {
   "cell_type": "code",
   "execution_count": 1,
   "id": "00ae701d",
   "metadata": {},
   "outputs": [],
   "source": [
    "import cv2\n",
    "import numpy as np\n",
    "import matplotlib.pyplot as plt"
   ]
  },
  {
   "cell_type": "code",
   "execution_count": 103,
   "id": "45593cf3",
   "metadata": {},
   "outputs": [
    {
     "data": {
      "text/plain": [
       "(5504, 6880, 3)"
      ]
     },
     "execution_count": 103,
     "metadata": {},
     "output_type": "execute_result"
    }
   ],
   "source": [
    "image = cv2.imread(\"ModulePictures/20UPGM23211132_PPPV2_43_AfterBonding_NOK.jpg\")\n",
    "image.shape"
   ]
  },
  {
   "cell_type": "code",
   "execution_count": null,
   "id": "dc96777a",
   "metadata": {},
   "outputs": [
    {
     "data": {
      "text/plain": [
       "(948,\n",
       " array([[135, 142, 135],\n",
       "        [140, 146, 141],\n",
       "        [142, 150, 143],\n",
       "        ...,\n",
       "        [106, 103,  99],\n",
       "        [130, 129, 125],\n",
       "        [146, 142, 141]], shape=(5504, 3), dtype=uint8))"
      ]
     },
     "execution_count": 111,
     "metadata": {},
     "output_type": "execute_result"
    }
   ],
   "source": [
    "## Trouver la colonne verte\n",
    "\n",
    "def find_column_left(image):\n",
    "    colonnes=[image[:,i,:] for i in range(image.shape[1])]\n",
    "    i=0\n",
    "    bool=False\n",
    "    while not bool and i<len(colonnes):\n",
    "        col=colonnes[i]\n",
    "        for pix in col:\n",
    "            if (pix[1]>50) and (pix[0]<30) and (pix[2]<30):\n",
    "                bool=True\n",
    "        if not bool:\n",
    "            i+=1\n",
    "    return i, colonnes[i]"
   ]
  },
  {
   "cell_type": "code",
   "execution_count": null,
   "id": "a2ac4cae",
   "metadata": {},
   "outputs": [
    {
     "data": {
      "text/plain": [
       "349"
      ]
     },
     "execution_count": 118,
     "metadata": {},
     "output_type": "execute_result"
    }
   ],
   "source": [
    "# Compte le nombre de fils sur la moitié gauche du module\n",
    "\n",
    "def count(image, level = 0.8) :\n",
    "    column_left = find_column_left(image)[0]\n",
    "    state = False\n",
    "    counter = 0\n",
    "    for i in range(image.shape[0]) :\n",
    "        if (image[i,column_left-5:column_left+5].sum()/(255*10*3)) > level :\n",
    "            if not(state) :\n",
    "                counter+=1\n",
    "                state = True\n",
    "        else :\n",
    "            state = False\n",
    "    return (counter)\n",
    "\n",
    "count(image)\n"
   ]
  },
  {
   "cell_type": "code",
   "execution_count": 133,
   "id": "b5618f9b",
   "metadata": {},
   "outputs": [
    {
     "name": "stdout",
     "output_type": "stream",
     "text": [
      "19\n"
     ]
    },
    {
     "data": {
      "text/plain": [
       "<matplotlib.image.AxesImage at 0x16ba8390cd0>"
      ]
     },
     "execution_count": 133,
     "metadata": {},
     "output_type": "execute_result"
    },
    {
     "data": {
      "image/png": "[encoded data removed]",
      "text/plain": [
       "<Figure size 640x480 with 1 Axes>"
      ]
     },
     "metadata": {},
     "output_type": "display_data"
    }
   ],
   "source": [
    "test_low = 1000\n",
    "test_high = 1200\n",
    "\n",
    "print(count(image[test_low:test_high]))\n",
    "column = find_colonne(image[test_low:test_high])[0]\n",
    "plt.imshow(image[test_low:test_high, column-5:column+5])"
   ]
  },
  {
   "cell_type": "code",
   "execution_count": null,
   "id": "810baa9a",
   "metadata": {},
   "outputs": [],
   "source": []
  }
 ],
 "metadata": {
  "kernelspec": {
   "display_name": "base",
   "language": "python",
   "name": "python3"
  },
  "language_info": {
   "codemirror_mode": {
    "name": "ipython",
    "version": 3
   },
   "file_extension": ".py",
   "mimetype": "text/x-python",
   "name": "python",
   "nbconvert_exporter": "python",
   "pygments_lexer": "ipython3",
   "version": "3.13.2"
  }
 },
 "nbformat": 4,
 "nbformat_minor": 5
}
